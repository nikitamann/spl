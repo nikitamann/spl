{
  "nbformat": 4,
  "nbformat_minor": 0,
  "metadata": {
    "colab": {
      "provenance": []
    },
    "kernelspec": {
      "name": "python3",
      "display_name": "Python 3"
    },
    "language_info": {
      "name": "python"
    }
  },
  "cells": [
    {
      "cell_type": "code",
      "source": [
        "from itertools import permutations"
      ],
      "metadata": {
        "id": "y1U96YwYQcbB"
      },
      "execution_count": 1,
      "outputs": []
    },
    {
      "cell_type": "code",
      "source": [
        "floors = [0, 1, 2, 3, 4, 5, 6, 7, 8]\n",
        "costs = [0, 625000, 1250000, 1875000, 2500000, 3125000, 3750000, 4375000, 5000000]"
      ],
      "metadata": {
        "id": "Vf3DHnNNRR3h"
      },
      "execution_count": 2,
      "outputs": []
    },
    {
      "cell_type": "code",
      "source": [
        "expenses = [0, 0, 0, 0, 0, 0, 0, 0, 0]\n",
        "count = 0\n",
        "for perm in permutations(floors):\n",
        "    count += 1\n",
        "    highest = 0\n",
        "    for floor in perm:\n",
        "        if floor > highest:\n",
        "            expenses[floor] += costs[floor] - costs[highest]\n",
        "            highest = floor\n",
        "\n",
        "sum = 0\n",
        "for i in range(len(expenses)):\n",
        "    expenses[i] = expenses[i] / count\n",
        "    sum += expenses[i]\n",
        "\n",
        "sheply = []\n",
        "for elem in expenses:\n",
        "    sheply.append(format(elem / 16, '.2f'))"
      ],
      "metadata": {
        "id": "7S_n5jCMQ7WL"
      },
      "execution_count": 7,
      "outputs": []
    },
    {
      "cell_type": "code",
      "source": [
        "print(\"Всего престановок:\", count)\n",
        "print(\"Проверим, что сумма равна 5000000: \", format(sum, '.2f'))\n",
        "print(\"Вектор платежей для каждого этажа\", \" \".join([str(format(el, '.2f')) for el in expenses]))\n",
        "print(\"Платежи для жильца по этажам:\", \" \".join(sheply))"
      ],
      "metadata": {
        "colab": {
          "base_uri": "https://localhost:8080/"
        },
        "id": "R1j_UpBFSFcy",
        "outputId": "8bece43a-89b1-4b7c-8842-aa68341795a2"
      },
      "execution_count": 12,
      "outputs": [
        {
          "output_type": "stream",
          "name": "stdout",
          "text": [
            "Всего престановок: 362880\n",
            "Проверим, что сумма равна 5000000:  5000000.00\n",
            "Вектор платежей для каждого этажа 0.00 78125.00 167410.71 271577.38 396577.38 552827.38 761160.71 1073660.71 1698660.71\n",
            "Платежи для жильца по этажам: 0.00 4882.81 10463.17 16973.59 24786.09 34551.71 47572.54 67103.79 106166.29\n"
          ]
        }
      ]
    }
  ]
}